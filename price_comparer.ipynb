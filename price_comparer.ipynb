{
 "cells": [
  {
   "cell_type": "code",
   "execution_count": 1,
   "metadata": {},
   "outputs": [],
   "source": [
    "import requests, json\n",
    "from bs4 import BeautifulSoup\n",
    "import re\n",
    "from difflib import SequenceMatcher\n",
    "import urllib3"
   ]
  },
  {
   "cell_type": "code",
   "execution_count": 8,
   "metadata": {},
   "outputs": [],
   "source": [
    "# Disable InsecureRequestWarning\n",
    "urllib3.disable_warnings(urllib3.exceptions.InsecureRequestWarning)"
   ]
  },
  {
   "cell_type": "code",
   "execution_count": 2,
   "metadata": {},
   "outputs": [],
   "source": [
    "# Define the brands you're interested in\n",
    "brands = ['loreal', 'maybelline', 'lakme', 'mamaearth', 'pilgrim', 'mcaffeine', 'plum', 'clinique', 'swiss-beauty', 'blue-heaven', 'mars']"
   ]
  },
  {
   "cell_type": "code",
   "execution_count": 3,
   "metadata": {},
   "outputs": [],
   "source": [
    "# Define headers for requests\n",
    "headers = {'User-Agent' : 'Mozilla/5.0 (Macintosh; Intel Mac OS X 10_14_5) AppleWebKit/537.36 (KHTML, like Gecko) Chrome/84.0.4147.89 Safari/537.36'}"
   ]
  },
  {
   "cell_type": "markdown",
   "metadata": {},
   "source": [
    "Scrape Purplle"
   ]
  },
  {
   "cell_type": "code",
   "execution_count": 103,
   "metadata": {},
   "outputs": [],
   "source": [
    "def scrape_purplle(brand):\n",
    "    url = f'https://www.purplle.com/brand/{brand}'\n",
    "    response = requests.get(url)\n",
    "    soup = BeautifulSoup(response.content, 'html.parser')\n",
    "\n",
    "    product_list = []\n",
    "\n",
    "    # Find all product elements based on the provided HTML structure\n",
    "    product_elements = soup.find_all('div', class_='pdt2')\n",
    "    \n",
    "    for product_element in product_elements:\n",
    "        product_name_element = product_element.find('div', class_='pro-name')\n",
    "        product_price_element = product_element.find('span', class_='tx-0')\n",
    "\n",
    "        if product_name_element and product_price_element:\n",
    "            product_name = product_name_element.text.strip()\n",
    "            product_price = product_price_element.text.strip()\n",
    "\n",
    "            product_list.append({'name': product_name, 'price': product_price})\n",
    "\n",
    "    return product_list"
   ]
  },
  {
   "cell_type": "markdown",
   "metadata": {},
   "source": [
    "Scrape Myntra"
   ]
  },
  {
   "cell_type": "code",
   "execution_count": 9,
   "metadata": {},
   "outputs": [],
   "source": [
    "def scrape_myntra_helper(brand, pageno):\n",
    "    session = requests.Session()\n",
    "\n",
    "    url = f'https://www.myntra.com/{brand}?p={pageno}'\n",
    "    response = session.get(url, headers=headers, allow_redirects=False) \n",
    "\n",
    "    soup = BeautifulSoup(response.text, 'html.parser')\n",
    "\n",
    "    script_element = soup.find_all('script', type='application/ld+json')\n",
    "    required_data = None\n",
    "\n",
    "    for script in script_element:\n",
    "        json_data = json.loads(script.string)\n",
    "        if json_data['@type'] == 'ItemList':\n",
    "            required_data = json_data\n",
    "            break\n",
    "\n",
    "    product_list = []\n",
    "\n",
    "    try:\n",
    "        for item in required_data['itemListElement']: # none type error if the page doesn't have products\n",
    "            s = requests.Session()\n",
    "            res = s.get(item['url'], headers=headers, verify=False)\n",
    "\n",
    "            soup = BeautifulSoup(res.text,\"html.parser\")\n",
    "\n",
    "            script = None\n",
    "            for s in soup.find_all(\"script\"):\n",
    "                if 'pdpData' in s.text:\n",
    "                    script = s.get_text(strip=True)\n",
    "                    break\n",
    "\n",
    "            data = json.loads(script[script.index('{'):])\n",
    "            name = data['pdpData']['name']\n",
    "            price = discounted_price = data[\"pdpData\"][\"sizes\"][0][\"sizeSellerData\"][0][\"discountedPrice\"]\n",
    "            product_list.append({'name': name, 'price': price})\n",
    "    except:\n",
    "        pass\n",
    "        \n",
    "    return product_list    "
   ]
  },
  {
   "cell_type": "code",
   "execution_count": 10,
   "metadata": {},
   "outputs": [],
   "source": [
    "def scrape_myntra(brand):\n",
    "    product_list = []\n",
    "\n",
    "    pgno = 1\n",
    "    while True:\n",
    "        prods = scrape_myntra_helper(brand, pgno)\n",
    "        if prods == []:\n",
    "            break\n",
    "        \n",
    "        print(len(prods))\n",
    "\n",
    "        product_list.extend(prods)\n",
    "        pgno += 1\n",
    "\n",
    "    return product_list"
   ]
  },
  {
   "cell_type": "markdown",
   "metadata": {},
   "source": [
    "Compare Products and their Prices"
   ]
  },
  {
   "cell_type": "code",
   "execution_count": 127,
   "metadata": {},
   "outputs": [],
   "source": [
    "\n",
    "\n",
    "# Function to clean and preprocess product names\n",
    "def clean_product_name(name):\n",
    "    # Remove formatting and symbols\n",
    "    name = re.sub(r'[^a-zA-Z0-9\\s]', '', name)\n",
    "    # Convert to lowercase and remove extra spaces\n",
    "    name = ' '.join(name.lower().split())\n",
    "    return name\n",
    "\n",
    "# Function to calculate the similarity between two product names\n",
    "def get_name_similarity(name1, name2):\n",
    "    return SequenceMatcher(None, name1, name2).ratio()\n",
    "\n",
    "# Function to compare common products and their prices\n",
    "def compare_products(brand):\n",
    "    myntra_products = scrape_myntra(brand)\n",
    "    purplle_products = scrape_purplle(brand)\n",
    "\n",
    "    print(\"Products found on myntra \", len(myntra_products))\n",
    "    print(\"Products found on purplle \", len(purplle_products))\n",
    "\n",
    "    better_products = []\n",
    "\n",
    "    for myntra_product in myntra_products:\n",
    "        for purplle_product in purplle_products:\n",
    "            myntra_name = clean_product_name(myntra_product['name'])\n",
    "            purplle_name = clean_product_name(purplle_product['name'])\n",
    "\n",
    "            myntra_price = int(myntra_product['price'])\n",
    "            purplle_price = int(purplle_product['price'])\n",
    "\n",
    "            similarity_score = get_name_similarity(myntra_name, purplle_name)\n",
    "\n",
    "            if similarity_score > 0.7 and myntra_price < purplle_price and abs(myntra_price-purplle_price) < 200:  # You can adjust the threshold as needed\n",
    "                better_products.append({\n",
    "                    'myntra_name': myntra_product['name'],\n",
    "                    'purplle_name': purplle_product['name'],\n",
    "                    'myntra_price': myntra_product['price'],\n",
    "                    'purplle_price': purplle_product['price'],\n",
    "                    'similarity_score': similarity_score\n",
    "                })\n",
    "\n",
    "    return better_products\n"
   ]
  },
  {
   "cell_type": "code",
   "execution_count": 128,
   "metadata": {},
   "outputs": [
    {
     "name": "stdout",
     "output_type": "stream",
     "text": [
      "Products found on myntra  10\n",
      "Products found on purplle  56\n",
      "Better products for lakme:\n",
      "Product: Lakme 9to5 Primer Matte Lipstick - Deep Wine MP6 Lakme 9TO5 Primer + Matte Lip Color MP6 Deep Wine (3.6 g)\n",
      "Myntra Price: 302\n",
      "Purplle Price: 358\n",
      "\n",
      "\n"
     ]
    }
   ],
   "source": [
    "# Compare products for each brand\n",
    "for brand in ['lakme']:\n",
    "    common_products = compare_products(brand)\n",
    "    print(f'Better products for {brand}:')\n",
    "    for product in common_products:\n",
    "        print(f\"Product: {product['myntra_name']} {product['purplle_name']}\")\n",
    "        print(f\"Myntra Price: {product['myntra_price']}\")\n",
    "        print(f\"Purplle Price: {product['purplle_price']}\")\n",
    "        print()\n",
    "    print()"
   ]
  }
 ],
 "metadata": {
  "kernelspec": {
   "display_name": "Python 3",
   "language": "python",
   "name": "python3"
  },
  "language_info": {
   "codemirror_mode": {
    "name": "ipython",
    "version": 3
   },
   "file_extension": ".py",
   "mimetype": "text/x-python",
   "name": "python",
   "nbconvert_exporter": "python",
   "pygments_lexer": "ipython3",
   "version": "3.11.4"
  },
  "orig_nbformat": 4
 },
 "nbformat": 4,
 "nbformat_minor": 2
}
